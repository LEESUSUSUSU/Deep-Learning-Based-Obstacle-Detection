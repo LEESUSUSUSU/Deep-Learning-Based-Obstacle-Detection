{
  "nbformat": 4,
  "nbformat_minor": 0,
  "metadata": {
    "colab": {
      "provenance": [],
      "machine_shape": "hm",
      "gpuType": "V100",
      "authorship_tag": "ABX9TyOy+XasqjDChrLc0ofARQhg",
      "include_colab_link": true
    },
    "kernelspec": {
      "name": "python3",
      "display_name": "Python 3"
    },
    "language_info": {
      "name": "python"
    },
    "accelerator": "GPU"
  },
  "cells": [
    {
      "cell_type": "markdown",
      "metadata": {
        "id": "view-in-github",
        "colab_type": "text"
      },
      "source": [
        "<a href=\"https://colab.research.google.com/github/LEESUSUSUSU/Image_based_question_answering_AI_project/blob/main/DL_project_test1.ipynb\" target=\"_parent\"><img src=\"https://colab.research.google.com/assets/colab-badge.svg\" alt=\"Open In Colab\"/></a>"
      ]
    },
    {
      "cell_type": "code",
      "source": [
        "from google.colab import drive\n",
        "drive.mount('/content/drive')"
      ],
      "metadata": {
        "colab": {
          "base_uri": "https://localhost:8080/"
        },
        "id": "fDaZMWcKvzEP",
        "outputId": "ff60e72f-4c01-4a07-c6d7-a6cac8387191"
      },
      "execution_count": 1,
      "outputs": [
        {
          "output_type": "stream",
          "name": "stdout",
          "text": [
            "Mounted at /content/drive\n"
          ]
        }
      ]
    },
    {
      "cell_type": "code",
      "execution_count": 2,
      "metadata": {
        "id": "eYWa25twBtJI"
      },
      "outputs": [],
      "source": [
        "# import os\n",
        "# import zipfile\n",
        "# from tqdm import tqdm\n",
        "\n",
        "# # 압축 파일 경로\n",
        "# zip_file_path = \"/content/drive/MyDrive/zerobase/project_DL/done.zip\"\n",
        "\n",
        "# # 압축을 풀 디렉토리 경로\n",
        "# extracted_dir_path = \"/content/drive/MyDrive/zerobase/project_DL/data\"\n",
        "\n",
        "# # 압축 해제\n",
        "# with zipfile.ZipFile(zip_file_path, 'r') as zip_ref:\n",
        "#     # 압축 파일 내 파일의 개수 추출\n",
        "#     file_count = len(zip_ref.infolist())\n",
        "\n",
        "#     # tqdm을 사용하여 압축 해제 작업의 진행 상황 표시\n",
        "#     with tqdm(total=file_count) as pbar:\n",
        "#         for file in zip_ref.infolist():\n",
        "#             zip_ref.extract(file, extracted_dir_path)\n",
        "#             pbar.update(1)\n",
        "\n",
        "# print(\"Zip file extracted successfully!\")\n"
      ]
    },
    {
      "cell_type": "code",
      "source": [
        "import os\n",
        "import json\n",
        "from glob import glob\n",
        "import torch\n",
        "from torch.utils.data import Dataset, DataLoader, random_split\n",
        "from torchvision import transforms\n",
        "from PIL import Image\n",
        "import torch.nn as nn\n",
        "import torch.nn.functional as F\n",
        "import torch.optim as optim"
      ],
      "metadata": {
        "id": "2aGvuD-Ueeq2"
      },
      "execution_count": 3,
      "outputs": []
    },
    {
      "cell_type": "code",
      "source": [
        "os.environ['CUDA_LAUNCH_BLOCKING'] = \"1\""
      ],
      "metadata": {
        "id": "MyCyjQYZf_k0"
      },
      "execution_count": 4,
      "outputs": []
    },
    {
      "cell_type": "code",
      "source": [
        "class CustomImageDataset(Dataset):\n",
        "    def __init__(self, img_dir, transform=None):\n",
        "        self.json_files = glob(os.path.join(img_dir, '*.json'))\n",
        "        self.img_dir = img_dir\n",
        "        self.transform = transform\n",
        "\n",
        "    def __len__(self):\n",
        "        return len(self.json_files)\n",
        "\n",
        "    def __getitem__(self, idx):\n",
        "      json_path = self.json_files[idx]\n",
        "      with open(json_path, 'r', encoding='utf-8') as f:\n",
        "          annotations = json.load(f)\n",
        "\n",
        "      # 이미지 경로 가져오기\n",
        "      img_name = os.path.splitext(os.path.basename(json_path))[0] + '.png'\n",
        "      img_path = os.path.join(self.img_dir, img_name)\n",
        "\n",
        "      # 이미지 로드\n",
        "      try:\n",
        "          image = Image.open(img_path).convert('RGB')\n",
        "      except IOError:\n",
        "          print(f\"이미지를 여는데 실패: {img_path}\")\n",
        "          return None\n",
        "\n",
        "      # shapes 리스트가 비어 있는 경우 처리\n",
        "      if not annotations['shapes']:\n",
        "          print(f\"주석이 없는 이미지: {json_path}\")\n",
        "          return None\n",
        "\n",
        "      # 첫 번째 주석에서 라벨 가져오기\n",
        "      label_str = annotations['shapes'][0].get('label')\n",
        "      if label_str is None or label_str not in label_mapping:\n",
        "          print(f\"유효하지 않은 라벨: {json_path}\")\n",
        "          return None\n",
        "\n",
        "      # 라벨 매핑에서 라벨 ID 가져오기\n",
        "      label = label_mapping[label_str]\n",
        "      if label is None:\n",
        "          print(f\"매핑되지 않은 라벨: {label_str}\")\n",
        "          return None\n",
        "\n",
        "      # 이미지 변환 적용\n",
        "      if self.transform:\n",
        "          image = self.transform(image)\n",
        "\n",
        "      return image, torch.tensor(label, dtype=torch.long)\n",
        "\n",
        "\n"
      ],
      "metadata": {
        "id": "JK9YNPibjnTo"
      },
      "execution_count": 5,
      "outputs": []
    },
    {
      "cell_type": "code",
      "source": [
        "# 이미지 전처리를 위한 Transform\n",
        "transform = transforms.Compose([\n",
        "    transforms.Resize((256, 256)),\n",
        "    transforms.ToTensor(),\n",
        "    transforms.Normalize(mean=[0.485, 0.456, 0.406], std=[0.229, 0.224, 0.225])\n",
        "])\n",
        "\n",
        "\n",
        "\n",
        "# label_mapping은 실제 라벨과 모델의 출력 클래스 사이의 매핑입니다.\n",
        "label_mapping = {\n",
        "   'bus':0, 'fire hydrant':1, 'car':2,\n",
        "   'person':3, 'road':4, 'tree':5,\n",
        "   'truck':6, 'bear':7, 'scooter':8,\n",
        "   'bicycle':9, 'bench':10, 'bus_stop':11,\n",
        "   'utility_pole':12, 'motorcycle':13, 'obstacle':14,\n",
        "   'traffic light':15, 'green':16, 'elevator':17,\n",
        "   'stair':18, 'manhole':19, 'dog':20, 'potted plant':21,\n",
        "   'handbag':22, 'clock':23, 'umbrella':24, 'parking meter':25,\n",
        "   'perosn':26, 'raod':27, 'chair':28, 'cell phone':29,\n",
        "   'bird':30, 'mouse':31, 'backpack':32, 'skateboard':33,\n",
        "   'suitcase':34, 'surfboard':35, 'trash':36, 'bed':37,\n",
        "   'refrigerator':38, 'oven':39, 'stop sign':40, 'red':41,\n",
        "   'train_station':42, 'toilet':43, 'bowl':44, 'horse':45,\n",
        "   'dining table':46, 'scissors':47\n",
        "}\n",
        "\n",
        "img_dir = '/content/drive/MyDrive/zerobase/project_DL/data'\n",
        "\n",
        "dataset = CustomImageDataset(img_dir=img_dir, transform=transform)\n",
        "\n",
        "# 데이터셋 분할\n",
        "train_size = int(0.8 * len(dataset))\n",
        "test_size = len(dataset) - train_size\n",
        "train_dataset, test_dataset = random_split(dataset, [train_size, test_size])\n",
        "\n",
        "def custom_collate_fn(batch):\n",
        "    # None 항목을 제거\n",
        "    batch = [item for item in batch if item is not None]\n",
        "    if not batch:\n",
        "        # 모든 항목이 None이면 빈 텐서 반환\n",
        "        return torch.Tensor(), torch.Tensor()\n",
        "    # 유효한 항목만 묶어서 반환\n",
        "    return torch.utils.data.dataloader.default_collate(batch)\n",
        "\n",
        "# DataLoader에 collate_fn 적용\n",
        "train_dataloader = DataLoader(train_dataset, batch_size=64, shuffle=True, num_workers=4, collate_fn=custom_collate_fn)\n",
        "test_dataloader = DataLoader(test_dataset, batch_size=64, shuffle=False, num_workers=4, collate_fn=custom_collate_fn)\n",
        "\n",
        "# train_dataloader = DataLoader(train_dataset, batch_size=64, shuffle=True)\n",
        "# # train_dataloader = DataLoader(train_dataset, batch_size=64, shuffle=True, num_workers=2, sampler=torch.utils.data.SubsetRandomSampler(range(100)))\n",
        "# test_dataloader = DataLoader(test_dataset, batch_size=64, shuffle=False)\n"
      ],
      "metadata": {
        "id": "_WSM-by_jp0i"
      },
      "execution_count": 6,
      "outputs": []
    },
    {
      "cell_type": "code",
      "source": [
        "class SimpleCNN(nn.Module):\n",
        "    def __init__(self, num_classes=26):\n",
        "        super(SimpleCNN, self).__init__()\n",
        "        self.conv1 = nn.Conv2d(3, 32, kernel_size=3, padding=1)\n",
        "        self.pool = nn.MaxPool2d(kernel_size=2, stride=2)\n",
        "        self.conv2 = nn.Conv2d(32, 64, kernel_size=3, padding=1)\n",
        "        self.fc1 = nn.Linear(64 * 64 * 64, 128)  # 조정이 필요할 수 있음\n",
        "        self.fc2 = nn.Linear(128, num_classes)\n",
        "\n",
        "    def forward(self, x):\n",
        "        x = self.pool(F.relu(self.conv1(x)))\n",
        "        x = self.pool(F.relu(self.conv2(x)))\n",
        "        x = x.view(-1, 64 * 64 * 64)  # 조정이 필요할 수 있음\n",
        "        x = F.relu(self.fc1(x))\n",
        "        x = self.fc2(x)\n",
        "        return x\n"
      ],
      "metadata": {
        "id": "zAoUE8W2kgbA"
      },
      "execution_count": 7,
      "outputs": []
    },
    {
      "cell_type": "code",
      "source": [
        "device = torch.device(\"cuda\" if torch.cuda.is_available() else \"cpu\")\n",
        "model = SimpleCNN(num_classes=len(label_mapping)).to(device)\n",
        "criterion = nn.CrossEntropyLoss()\n",
        "optimizer = optim.Adam(model.parameters(), lr=0.001)\n"
      ],
      "metadata": {
        "id": "HcZv8DFskkLo"
      },
      "execution_count": 8,
      "outputs": []
    },
    {
      "cell_type": "code",
      "source": [
        "import torch.nn.functional as F\n",
        "import matplotlib.pyplot as plt\n",
        "\n",
        "train_losses = []\n",
        "test_accuracies = []\n",
        "\n",
        "# 모델 훈련 설정\n",
        "num_epochs = 5  # 훈련할 총 에포크 수\n",
        "\n",
        "for epoch in range(num_epochs):\n",
        "    model.train()\n",
        "    total_loss = 0.0\n",
        "    for images, labels in train_dataloader:\n",
        "        images, labels = images.to(device), labels.to(device)  # 데이터를 GPU로 이동 (CUDA 사용시)\n",
        "\n",
        "        optimizer.zero_grad()  # 그래디언트 초기화\n",
        "        outputs = model(images)  # 모델이 이미지에 대해 예측\n",
        "        loss = criterion(outputs, labels)  # 손실 계산\n",
        "        loss.backward()  # 손실에 대한 그래디언트 계산\n",
        "        optimizer.step()  # 옵티마이저를 사용하여 파라미터 갱신\n",
        "\n",
        "        total_loss += loss.item()\n",
        "\n",
        "    avg_loss = total_loss / len(train_dataloader)\n",
        "    train_losses.append(avg_loss)\n",
        "    print(f\"Epoch [{epoch+1}/{num_epochs}], Loss: {avg_loss:.4f}\")  # 현재 에포크와 평균 손실 출력\n",
        "\n",
        "    # 평가\n",
        "    model.eval()\n",
        "    correct = 0\n",
        "    total = 0\n",
        "    with torch.no_grad():\n",
        "        for images, labels in test_dataloader:\n",
        "            images, labels = images.to(device), labels.to(device)\n",
        "            outputs = model(images)\n",
        "            _, predicted = torch.max(outputs.data, 1)\n",
        "            total += labels.size(0)\n",
        "            correct += (predicted == labels).sum().item()\n",
        "    accuracy = 100 * correct / total\n",
        "    test_accuracies.append(accuracy)\n",
        "\n",
        "    print(f\"Epoch [{epoch+1}/{num_epochs}], Loss: {avg_loss:.4f}, Accuracy: {accuracy}%\")\n",
        "\n",
        "# 모델 평가\n",
        "model.eval()\n",
        "correct = 0\n",
        "total = 0\n",
        "with torch.no_grad():\n",
        "    for images, labels in test_dataloader:\n",
        "        images, labels = images.to(device), labels.to(device)\n",
        "        outputs = model(images)\n",
        "        _, predicted = torch.max(outputs.data, 1)\n",
        "        total += labels.size(0)\n",
        "        correct += (predicted == labels).sum().item()\n",
        "\n",
        "accuracy = 100 * correct / total\n",
        "print(f'Test Accuracy: {accuracy}%')\n"
      ],
      "metadata": {
        "colab": {
          "base_uri": "https://localhost:8080/"
        },
        "id": "n3VsSkJxkmhk",
        "outputId": "0eaeb23b-5ec1-4890-d0ac-b81539dd85e0"
      },
      "execution_count": 9,
      "outputs": [
        {
          "output_type": "stream",
          "name": "stdout",
          "text": [
            "주석이 없는 이미지: /content/drive/MyDrive/zerobase/project_DL/data/image_1737.json\n",
            "유효하지 않은 라벨: /content/drive/MyDrive/zerobase/project_DL/data/image_2825.json\n",
            "주석이 없는 이미지: /content/drive/MyDrive/zerobase/project_DL/data/image_1922.json\n",
            "유효하지 않은 라벨: /content/drive/MyDrive/zerobase/project_DL/data/image_3133.json\n",
            "주석이 없는 이미지: /content/drive/MyDrive/zerobase/project_DL/data/image_273.json\n",
            "유효하지 않은 라벨: /content/drive/MyDrive/zerobase/project_DL/data/image_3173.json\n",
            "주석이 없는 이미지: /content/drive/MyDrive/zerobase/project_DL/data/image_1923.json\n",
            "유효하지 않은 라벨: /content/drive/MyDrive/zerobase/project_DL/data/image_2813.json\n",
            "주석이 없는 이미지: /content/drive/MyDrive/zerobase/project_DL/data/image_1920.json\n",
            "유효하지 않은 라벨: /content/drive/MyDrive/zerobase/project_DL/data/image_2217.json\n",
            "주석이 없는 이미지: /content/drive/MyDrive/zerobase/project_DL/data/image_049.json\n",
            "유효하지 않은 라벨: /content/drive/MyDrive/zerobase/project_DL/data/image_3124.json\n",
            "주석이 없는 이미지: /content/drive/MyDrive/zerobase/project_DL/data/image_2364.json\n",
            "유효하지 않은 라벨: /content/drive/MyDrive/zerobase/project_DL/data/image_111.json\n",
            "주석이 없는 이미지: /content/drive/MyDrive/zerobase/project_DL/data/image_2365.json\n",
            "유효하지 않은 라벨: /content/drive/MyDrive/zerobase/project_DL/data/image_3120.json\n",
            "Epoch [1/5], Loss: 3.8254\n",
            "Epoch [1/5], Loss: 3.8254, Accuracy: 53.364632237871675%\n",
            "주석이 없는 이미지: /content/drive/MyDrive/zerobase/project_DL/data/image_1737.json\n",
            "유효하지 않은 라벨: /content/drive/MyDrive/zerobase/project_DL/data/image_2217.json\n",
            "주석이 없는 이미지: /content/drive/MyDrive/zerobase/project_DL/data/image_049.json\n",
            "유효하지 않은 라벨: /content/drive/MyDrive/zerobase/project_DL/data/image_3133.json\n",
            "주석이 없는 이미지: /content/drive/MyDrive/zerobase/project_DL/data/image_2364.json\n",
            "유효하지 않은 라벨: /content/drive/MyDrive/zerobase/project_DL/data/image_3120.json\n",
            "주석이 없는 이미지: /content/drive/MyDrive/zerobase/project_DL/data/image_1922.json\n",
            "유효하지 않은 라벨: /content/drive/MyDrive/zerobase/project_DL/data/image_2825.json\n",
            "유효하지 않은 라벨: /content/drive/MyDrive/zerobase/project_DL/data/image_3173.json\n",
            "주석이 없는 이미지: /content/drive/MyDrive/zerobase/project_DL/data/image_1923.json\n",
            "유효하지 않은 라벨: /content/drive/MyDrive/zerobase/project_DL/data/image_3124.json\n",
            "주석이 없는 이미지: /content/drive/MyDrive/zerobase/project_DL/data/image_273.json\n",
            "유효하지 않은 라벨: /content/drive/MyDrive/zerobase/project_DL/data/image_2813.json\n",
            "주석이 없는 이미지: /content/drive/MyDrive/zerobase/project_DL/data/image_1920.json\n",
            "유효하지 않은 라벨: /content/drive/MyDrive/zerobase/project_DL/data/image_111.json\n",
            "주석이 없는 이미지: /content/drive/MyDrive/zerobase/project_DL/data/image_2365.json\n",
            "Epoch [2/5], Loss: 1.3923\n",
            "Epoch [2/5], Loss: 1.3923, Accuracy: 57.90297339593114%\n",
            "주석이 없는 이미지: /content/drive/MyDrive/zerobase/project_DL/data/image_1737.json\n",
            "주석이 없는 이미지: /content/drive/MyDrive/zerobase/project_DL/data/image_2364.json\n",
            "유효하지 않은 라벨: /content/drive/MyDrive/zerobase/project_DL/data/image_3120.json\n",
            "주석이 없는 이미지: /content/drive/MyDrive/zerobase/project_DL/data/image_1920.json\n",
            "유효하지 않은 라벨: /content/drive/MyDrive/zerobase/project_DL/data/image_3124.json\n",
            "유효하지 않은 라벨: /content/drive/MyDrive/zerobase/project_DL/data/image_3173.json\n",
            "유효하지 않은 라벨: /content/drive/MyDrive/zerobase/project_DL/data/image_2813.json\n",
            "유효하지 않은 라벨: /content/drive/MyDrive/zerobase/project_DL/data/image_3133.json\n",
            "주석이 없는 이미지: /content/drive/MyDrive/zerobase/project_DL/data/image_049.json\n",
            "유효하지 않은 라벨: /content/drive/MyDrive/zerobase/project_DL/data/image_111.json\n",
            "유효하지 않은 라벨: /content/drive/MyDrive/zerobase/project_DL/data/image_2217.json\n",
            "주석이 없는 이미지: /content/drive/MyDrive/zerobase/project_DL/data/image_273.json\n",
            "주석이 없는 이미지: /content/drive/MyDrive/zerobase/project_DL/data/image_1923.json\n",
            "주석이 없는 이미지: /content/drive/MyDrive/zerobase/project_DL/data/image_1922.json\n",
            "주석이 없는 이미지: /content/drive/MyDrive/zerobase/project_DL/data/image_2365.json\n",
            "유효하지 않은 라벨: /content/drive/MyDrive/zerobase/project_DL/data/image_2825.json\n",
            "Epoch [3/5], Loss: 1.1512\n",
            "Epoch [3/5], Loss: 1.1512, Accuracy: 58.21596244131455%\n",
            "주석이 없는 이미지: /content/drive/MyDrive/zerobase/project_DL/data/image_2364.json\n",
            "유효하지 않은 라벨: /content/drive/MyDrive/zerobase/project_DL/data/image_111.json\n",
            "주석이 없는 이미지: /content/drive/MyDrive/zerobase/project_DL/data/image_049.json\n",
            "유효하지 않은 라벨: /content/drive/MyDrive/zerobase/project_DL/data/image_3133.json\n",
            "유효하지 않은 라벨: /content/drive/MyDrive/zerobase/project_DL/data/image_2217.json\n",
            "유효하지 않은 라벨: /content/drive/MyDrive/zerobase/project_DL/data/image_3173.json\n",
            "주석이 없는 이미지: /content/drive/MyDrive/zerobase/project_DL/data/image_1737.json\n",
            "유효하지 않은 라벨: /content/drive/MyDrive/zerobase/project_DL/data/image_2813.json\n",
            "주석이 없는 이미지: /content/drive/MyDrive/zerobase/project_DL/data/image_2365.json\n",
            "주석이 없는 이미지: /content/drive/MyDrive/zerobase/project_DL/data/image_1923.json\n",
            "유효하지 않은 라벨: /content/drive/MyDrive/zerobase/project_DL/data/image_3124.json\n",
            "주석이 없는 이미지: /content/drive/MyDrive/zerobase/project_DL/data/image_1922.json\n",
            "유효하지 않은 라벨: /content/drive/MyDrive/zerobase/project_DL/data/image_3120.json\n",
            "유효하지 않은 라벨: /content/drive/MyDrive/zerobase/project_DL/data/image_2825.json\n",
            "주석이 없는 이미지: /content/drive/MyDrive/zerobase/project_DL/data/image_273.json\n",
            "주석이 없는 이미지: /content/drive/MyDrive/zerobase/project_DL/data/image_1920.json\n",
            "Epoch [4/5], Loss: 0.9826\n",
            "Epoch [4/5], Loss: 0.9826, Accuracy: 62.1283255086072%\n",
            "주석이 없는 이미지: /content/drive/MyDrive/zerobase/project_DL/data/image_2365.json\n",
            "주석이 없는 이미지: /content/drive/MyDrive/zerobase/project_DL/data/image_273.json\n",
            "유효하지 않은 라벨: /content/drive/MyDrive/zerobase/project_DL/data/image_111.json\n",
            "유효하지 않은 라벨: /content/drive/MyDrive/zerobase/project_DL/data/image_3120.json\n",
            "주석이 없는 이미지: /content/drive/MyDrive/zerobase/project_DL/data/image_1737.json\n",
            "주석이 없는 이미지: /content/drive/MyDrive/zerobase/project_DL/data/image_1922.json\n",
            "주석이 없는 이미지: /content/drive/MyDrive/zerobase/project_DL/data/image_2364.json\n",
            "유효하지 않은 라벨: /content/drive/MyDrive/zerobase/project_DL/data/image_2813.json\n",
            "유효하지 않은 라벨: /content/drive/MyDrive/zerobase/project_DL/data/image_2825.json\n",
            "주석이 없는 이미지: /content/drive/MyDrive/zerobase/project_DL/data/image_049.json\n",
            "주석이 없는 이미지: /content/drive/MyDrive/zerobase/project_DL/data/image_1920.json\n",
            "유효하지 않은 라벨: /content/drive/MyDrive/zerobase/project_DL/data/image_3124.json\n",
            "유효하지 않은 라벨: /content/drive/MyDrive/zerobase/project_DL/data/image_3133.json\n",
            "유효하지 않은 라벨: /content/drive/MyDrive/zerobase/project_DL/data/image_2217.json\n",
            "유효하지 않은 라벨: /content/drive/MyDrive/zerobase/project_DL/data/image_3173.json\n",
            "주석이 없는 이미지: /content/drive/MyDrive/zerobase/project_DL/data/image_1923.json\n",
            "Epoch [5/5], Loss: 0.7147\n",
            "Epoch [5/5], Loss: 0.7147, Accuracy: 66.04068857589985%\n",
            "Test Accuracy: 66.04068857589985%\n"
          ]
        }
      ]
    },
    {
      "cell_type": "code",
      "source": [
        "# 훈련 손실 그래프\n",
        "plt.figure(figsize=(12, 5))\n",
        "plt.subplot(1, 2, 1)\n",
        "plt.plot(train_losses, 'o-', label='Training Loss')\n",
        "plt.title('Training Loss per Epoch')\n",
        "plt.xlabel('Epoch')\n",
        "plt.ylabel('Loss')\n",
        "plt.legend()\n",
        "\n",
        "# 테스트 정확도 그래프\n",
        "plt.subplot(1, 2, 2)\n",
        "plt.plot(test_accuracies, 'o-', label='Test Accuracy')\n",
        "plt.title('Test Accuracy per Epoch')\n",
        "plt.xlabel('Epoch')\n",
        "plt.ylabel('Accuracy (%)')\n",
        "plt.legend()\n",
        "\n",
        "# 그래프 표시\n",
        "plt.show()"
      ],
      "metadata": {
        "colab": {
          "base_uri": "https://localhost:8080/",
          "height": 487
        },
        "id": "pdPZzxUxqFT-",
        "outputId": "19638c5c-71ab-4194-f95c-e2a0c868ef4d"
      },
      "execution_count": 10,
      "outputs": [
        {
          "output_type": "display_data",
          "data": {
            "text/plain": [
              "<Figure size 1200x500 with 2 Axes>"
            ],
            "image/png": "[encoded data removed]"
          },
          "metadata": {}
        }
      ]
    },
    {
      "cell_type": "markdown",
      "source": [
        "#메모리를 초과함"
      ],
      "metadata": {
        "id": "v9Mt4p2lzBUO"
      }
    },
    {
      "cell_type": "code",
      "source": [
        "# import cv2\n",
        "# from google.colab.patches import cv2_imshow\n",
        "\n",
        "# # 모델과 라벨링 맵, 트랜스폼을 불러옵니다.\n",
        "# model.eval()\n",
        "\n",
        "# # 동영상 파일을 불러옵니다.\n",
        "# video_path = '/content/drive/MyDrive/zerobase/project_DL/경전철_나가기.mp4'\n",
        "# cap = cv2.VideoCapture(video_path)\n",
        "\n",
        "# # 결과를 저장할 비디오 설정\n",
        "# fourcc = cv2.VideoWriter_fourcc(*'XVID')\n",
        "# out = cv2.VideoWriter('output.avi', fourcc, 20.0, (640, 480))\n",
        "\n",
        "# while cap.isOpened():\n",
        "#     ret, frame = cap.read()\n",
        "#     if not ret:\n",
        "#         break\n",
        "\n",
        "#     # 현재 프레임에 대해 모델이 처리할 수 있는 형태로 변환합니다.\n",
        "#     input_frame = Image.fromarray(cv2.cvtColor(frame, cv2.COLOR_BGR2RGB))\n",
        "#     input_frame = transform(input_frame).unsqueeze(0).to(device)\n",
        "\n",
        "#     # 탐지 수행\n",
        "#     with torch.no_grad():\n",
        "#         predictions = model(input_frame)\n",
        "\n",
        "#     # 예측값을 CPU로 옮기고 numpy 배열로 변환합니다.\n",
        "#     predictions = predictions.cpu().numpy()\n",
        "\n",
        "#     # 예측 결과를 프레임에 오버레이합니다 (여기서는 예시를 위한 단순 텍스트 오버레이입니다).\n",
        "#     label = label_mapping.get(predictions.argmax(1)[0], \"Unknown\")\n",
        "#     cv2.putText(frame, label, (10, 25), cv2.FONT_HERSHEY_SIMPLEX, 1, (0, 255, 0), 2)\n",
        "\n",
        "#     # 결과 비디오에 프레임을 씁니다.\n",
        "#     out.write(frame)\n",
        "#     # Colab에서 프레임을 표시합니다.\n",
        "#     cv2_imshow(frame)\n",
        "\n",
        "#     # 'q'를 입력 받으면 루프를 종료합니다.\n",
        "#     if cv2.waitKey(1) & 0xFF == ord('q'):\n",
        "#         break\n",
        "\n",
        "# # 작업이 완료되면 해제합니다.\n",
        "# cap.release()\n",
        "# out.release()\n"
      ],
      "metadata": {
        "id": "1qzJRiO1qTDl"
      },
      "execution_count": 11,
      "outputs": []
    },
    {
      "cell_type": "markdown",
      "source": [
        "동영상만 뽑아냄... 오류 수정해야..\n"
      ],
      "metadata": {
        "id": "OGkkSHwpzGoq"
      }
    },
    {
      "cell_type": "code",
      "source": [
        "import cv2\n",
        "import torch\n",
        "from PIL import Image\n",
        "from torchvision import transforms\n",
        "\n",
        "# 모델을 평가 모드로 설정\n",
        "model.eval()\n",
        "\n",
        "# 이미지 변환(transform) 설정\n",
        "transform = transforms.Compose([\n",
        "    transforms.Resize((256, 256)),\n",
        "    transforms.ToTensor(),\n",
        "    transforms.Normalize(mean=[0.485, 0.456, 0.406], std=[0.229, 0.224, 0.225])\n",
        "])\n",
        "\n",
        "# 라벨 매핑 설정\n",
        "label_mapping = {\n",
        "    # 여러분의 라벨 매핑을 여기에 설정하세요.\n",
        "}\n",
        "\n",
        "# 동영상 파일을 불러옵니다.\n",
        "video_path = '/content/drive/MyDrive/zerobase/project_DL/경전철_나가기.mp4'\n",
        "cap = cv2.VideoCapture(video_path)\n",
        "\n",
        "# 결과를 저장할 비디오 설정\n",
        "fourcc = cv2.VideoWriter_fourcc(*'mp4v')\n",
        "out = cv2.VideoWriter('/content/drive/MyDrive/zerobase/project_DL/test2.mp4', fourcc, 20.0,\n",
        "                      (int(cap.get(cv2.CAP_PROP_FRAME_WIDTH)), int(cap.get(cv2.CAP_PROP_FRAME_HEIGHT))))\n",
        "\n",
        "# 프레임 카운터 초기화\n",
        "frame_count = 0\n",
        "\n",
        "while cap.isOpened():\n",
        "    ret, frame = cap.read()\n",
        "    if not ret:\n",
        "        break\n",
        "\n",
        "    # 5프레임마다 처리\n",
        "    if frame_count % 5 == 0:\n",
        "        # 현재 프레임에 대해 모델이 처리할 수 있는 형태로 변환\n",
        "        input_frame = Image.fromarray(cv2.cvtColor(frame, cv2.COLOR_BGR2RGB))\n",
        "        input_frame = transform(input_frame).unsqueeze(0)  # 모델 입력 형태로 변환\n",
        "\n",
        "        # 모델로 탐지 수행\n",
        "        with torch.no_grad():\n",
        "            predictions = model(input_frame)\n",
        "\n",
        "        # 예측값을 CPU로 옮기고 numpy 배열로 변환\n",
        "        predictions = predictions.cpu().numpy()\n",
        "\n",
        "        # 예측 결과를 프레임에 오버레이\n",
        "        label = label_mapping.get(predictions.argmax(1)[0], \"Unknown\")\n",
        "        cv2.putText(frame, label, (10, 25), cv2.FONT_HERSHEY_SIMPLEX, 1, (0, 255, 0), 2)\n",
        "\n",
        "    # 결과 비디오에 프레임을 씁니다.\n",
        "    out.write(frame)\n",
        "\n",
        "    frame_count += 1\n",
        "\n",
        "# 작업이 완료되면 자원을 해제합니다.\n",
        "cap.release()\n",
        "out.release()\n"
      ],
      "metadata": {
        "colab": {
          "base_uri": "https://localhost:8080/",
          "height": 367
        },
        "id": "UeFzQNsJvu-R",
        "outputId": "54512769-8a60-4158-c006-41b96e01c695"
      },
      "execution_count": 19,
      "outputs": [
        {
          "output_type": "error",
          "ename": "RuntimeError",
          "evalue": "Input type (torch.FloatTensor) and weight type (torch.cuda.FloatTensor) should be the same or input should be a MKLDNN tensor and weight is a dense tensor",
          "traceback": [
            "\u001b[0;31m---------------------------------------------------------------------------\u001b[0m",
            "\u001b[0;31mRuntimeError\u001b[0m                              Traceback (most recent call last)",
            "\u001b[0;32m<ipython-input-19-4b6b80c9c861>\u001b[0m in \u001b[0;36m<cell line: 33>\u001b[0;34m()\u001b[0m\n\u001b[1;32m     44\u001b[0m         \u001b[0;31m# 모델로 탐지 수행\u001b[0m\u001b[0;34m\u001b[0m\u001b[0;34m\u001b[0m\u001b[0m\n\u001b[1;32m     45\u001b[0m         \u001b[0;32mwith\u001b[0m \u001b[0mtorch\u001b[0m\u001b[0;34m.\u001b[0m\u001b[0mno_grad\u001b[0m\u001b[0;34m(\u001b[0m\u001b[0;34m)\u001b[0m\u001b[0;34m:\u001b[0m\u001b[0;34m\u001b[0m\u001b[0;34m\u001b[0m\u001b[0m\n\u001b[0;32m---> 46\u001b[0;31m             \u001b[0mpredictions\u001b[0m \u001b[0;34m=\u001b[0m \u001b[0mmodel\u001b[0m\u001b[0;34m(\u001b[0m\u001b[0minput_frame\u001b[0m\u001b[0;34m)\u001b[0m\u001b[0;34m\u001b[0m\u001b[0;34m\u001b[0m\u001b[0m\n\u001b[0m\u001b[1;32m     47\u001b[0m \u001b[0;34m\u001b[0m\u001b[0m\n\u001b[1;32m     48\u001b[0m         \u001b[0;31m# 예측값을 CPU로 옮기고 numpy 배열로 변환\u001b[0m\u001b[0;34m\u001b[0m\u001b[0;34m\u001b[0m\u001b[0m\n",
            "\u001b[0;32m/usr/local/lib/python3.10/dist-packages/torch/nn/modules/module.py\u001b[0m in \u001b[0;36m_wrapped_call_impl\u001b[0;34m(self, *args, **kwargs)\u001b[0m\n\u001b[1;32m   1509\u001b[0m             \u001b[0;32mreturn\u001b[0m \u001b[0mself\u001b[0m\u001b[0;34m.\u001b[0m\u001b[0m_compiled_call_impl\u001b[0m\u001b[0;34m(\u001b[0m\u001b[0;34m*\u001b[0m\u001b[0margs\u001b[0m\u001b[0;34m,\u001b[0m \u001b[0;34m**\u001b[0m\u001b[0mkwargs\u001b[0m\u001b[0;34m)\u001b[0m  \u001b[0;31m# type: ignore[misc]\u001b[0m\u001b[0;34m\u001b[0m\u001b[0;34m\u001b[0m\u001b[0m\n\u001b[1;32m   1510\u001b[0m         \u001b[0;32melse\u001b[0m\u001b[0;34m:\u001b[0m\u001b[0;34m\u001b[0m\u001b[0;34m\u001b[0m\u001b[0m\n\u001b[0;32m-> 1511\u001b[0;31m             \u001b[0;32mreturn\u001b[0m \u001b[0mself\u001b[0m\u001b[0;34m.\u001b[0m\u001b[0m_call_impl\u001b[0m\u001b[0;34m(\u001b[0m\u001b[0;34m*\u001b[0m\u001b[0margs\u001b[0m\u001b[0;34m,\u001b[0m \u001b[0;34m**\u001b[0m\u001b[0mkwargs\u001b[0m\u001b[0;34m)\u001b[0m\u001b[0;34m\u001b[0m\u001b[0;34m\u001b[0m\u001b[0m\n\u001b[0m\u001b[1;32m   1512\u001b[0m \u001b[0;34m\u001b[0m\u001b[0m\n\u001b[1;32m   1513\u001b[0m     \u001b[0;32mdef\u001b[0m \u001b[0m_call_impl\u001b[0m\u001b[0;34m(\u001b[0m\u001b[0mself\u001b[0m\u001b[0;34m,\u001b[0m \u001b[0;34m*\u001b[0m\u001b[0margs\u001b[0m\u001b[0;34m,\u001b[0m \u001b[0;34m**\u001b[0m\u001b[0mkwargs\u001b[0m\u001b[0;34m)\u001b[0m\u001b[0;34m:\u001b[0m\u001b[0;34m\u001b[0m\u001b[0;34m\u001b[0m\u001b[0m\n",
            "\u001b[0;32m/usr/local/lib/python3.10/dist-packages/torch/nn/modules/module.py\u001b[0m in \u001b[0;36m_call_impl\u001b[0;34m(self, *args, **kwargs)\u001b[0m\n\u001b[1;32m   1518\u001b[0m                 \u001b[0;32mor\u001b[0m \u001b[0m_global_backward_pre_hooks\u001b[0m \u001b[0;32mor\u001b[0m \u001b[0m_global_backward_hooks\u001b[0m\u001b[0;34m\u001b[0m\u001b[0;34m\u001b[0m\u001b[0m\n\u001b[1;32m   1519\u001b[0m                 or _global_forward_hooks or _global_forward_pre_hooks):\n\u001b[0;32m-> 1520\u001b[0;31m             \u001b[0;32mreturn\u001b[0m \u001b[0mforward_call\u001b[0m\u001b[0;34m(\u001b[0m\u001b[0;34m*\u001b[0m\u001b[0margs\u001b[0m\u001b[0;34m,\u001b[0m \u001b[0;34m**\u001b[0m\u001b[0mkwargs\u001b[0m\u001b[0;34m)\u001b[0m\u001b[0;34m\u001b[0m\u001b[0;34m\u001b[0m\u001b[0m\n\u001b[0m\u001b[1;32m   1521\u001b[0m \u001b[0;34m\u001b[0m\u001b[0m\n\u001b[1;32m   1522\u001b[0m         \u001b[0;32mtry\u001b[0m\u001b[0;34m:\u001b[0m\u001b[0;34m\u001b[0m\u001b[0;34m\u001b[0m\u001b[0m\n",
            "\u001b[0;32m<ipython-input-7-baa1eb52103f>\u001b[0m in \u001b[0;36mforward\u001b[0;34m(self, x)\u001b[0m\n\u001b[1;32m      9\u001b[0m \u001b[0;34m\u001b[0m\u001b[0m\n\u001b[1;32m     10\u001b[0m     \u001b[0;32mdef\u001b[0m \u001b[0mforward\u001b[0m\u001b[0;34m(\u001b[0m\u001b[0mself\u001b[0m\u001b[0;34m,\u001b[0m \u001b[0mx\u001b[0m\u001b[0;34m)\u001b[0m\u001b[0;34m:\u001b[0m\u001b[0;34m\u001b[0m\u001b[0;34m\u001b[0m\u001b[0m\n\u001b[0;32m---> 11\u001b[0;31m         \u001b[0mx\u001b[0m \u001b[0;34m=\u001b[0m \u001b[0mself\u001b[0m\u001b[0;34m.\u001b[0m\u001b[0mpool\u001b[0m\u001b[0;34m(\u001b[0m\u001b[0mF\u001b[0m\u001b[0;34m.\u001b[0m\u001b[0mrelu\u001b[0m\u001b[0;34m(\u001b[0m\u001b[0mself\u001b[0m\u001b[0;34m.\u001b[0m\u001b[0mconv1\u001b[0m\u001b[0;34m(\u001b[0m\u001b[0mx\u001b[0m\u001b[0;34m)\u001b[0m\u001b[0;34m)\u001b[0m\u001b[0;34m)\u001b[0m\u001b[0;34m\u001b[0m\u001b[0;34m\u001b[0m\u001b[0m\n\u001b[0m\u001b[1;32m     12\u001b[0m         \u001b[0mx\u001b[0m \u001b[0;34m=\u001b[0m \u001b[0mself\u001b[0m\u001b[0;34m.\u001b[0m\u001b[0mpool\u001b[0m\u001b[0;34m(\u001b[0m\u001b[0mF\u001b[0m\u001b[0;34m.\u001b[0m\u001b[0mrelu\u001b[0m\u001b[0;34m(\u001b[0m\u001b[0mself\u001b[0m\u001b[0;34m.\u001b[0m\u001b[0mconv2\u001b[0m\u001b[0;34m(\u001b[0m\u001b[0mx\u001b[0m\u001b[0;34m)\u001b[0m\u001b[0;34m)\u001b[0m\u001b[0;34m)\u001b[0m\u001b[0;34m\u001b[0m\u001b[0;34m\u001b[0m\u001b[0m\n\u001b[1;32m     13\u001b[0m         \u001b[0mx\u001b[0m \u001b[0;34m=\u001b[0m \u001b[0mx\u001b[0m\u001b[0;34m.\u001b[0m\u001b[0mview\u001b[0m\u001b[0;34m(\u001b[0m\u001b[0;34m-\u001b[0m\u001b[0;36m1\u001b[0m\u001b[0;34m,\u001b[0m \u001b[0;36m64\u001b[0m \u001b[0;34m*\u001b[0m \u001b[0;36m64\u001b[0m \u001b[0;34m*\u001b[0m \u001b[0;36m64\u001b[0m\u001b[0;34m)\u001b[0m  \u001b[0;31m# 조정이 필요할 수 있음\u001b[0m\u001b[0;34m\u001b[0m\u001b[0;34m\u001b[0m\u001b[0m\n",
            "\u001b[0;32m/usr/local/lib/python3.10/dist-packages/torch/nn/modules/module.py\u001b[0m in \u001b[0;36m_wrapped_call_impl\u001b[0;34m(self, *args, **kwargs)\u001b[0m\n\u001b[1;32m   1509\u001b[0m             \u001b[0;32mreturn\u001b[0m \u001b[0mself\u001b[0m\u001b[0;34m.\u001b[0m\u001b[0m_compiled_call_impl\u001b[0m\u001b[0;34m(\u001b[0m\u001b[0;34m*\u001b[0m\u001b[0margs\u001b[0m\u001b[0;34m,\u001b[0m \u001b[0;34m**\u001b[0m\u001b[0mkwargs\u001b[0m\u001b[0;34m)\u001b[0m  \u001b[0;31m# type: ignore[misc]\u001b[0m\u001b[0;34m\u001b[0m\u001b[0;34m\u001b[0m\u001b[0m\n\u001b[1;32m   1510\u001b[0m         \u001b[0;32melse\u001b[0m\u001b[0;34m:\u001b[0m\u001b[0;34m\u001b[0m\u001b[0;34m\u001b[0m\u001b[0m\n\u001b[0;32m-> 1511\u001b[0;31m             \u001b[0;32mreturn\u001b[0m \u001b[0mself\u001b[0m\u001b[0;34m.\u001b[0m\u001b[0m_call_impl\u001b[0m\u001b[0;34m(\u001b[0m\u001b[0;34m*\u001b[0m\u001b[0margs\u001b[0m\u001b[0;34m,\u001b[0m \u001b[0;34m**\u001b[0m\u001b[0mkwargs\u001b[0m\u001b[0;34m)\u001b[0m\u001b[0;34m\u001b[0m\u001b[0;34m\u001b[0m\u001b[0m\n\u001b[0m\u001b[1;32m   1512\u001b[0m \u001b[0;34m\u001b[0m\u001b[0m\n\u001b[1;32m   1513\u001b[0m     \u001b[0;32mdef\u001b[0m \u001b[0m_call_impl\u001b[0m\u001b[0;34m(\u001b[0m\u001b[0mself\u001b[0m\u001b[0;34m,\u001b[0m \u001b[0;34m*\u001b[0m\u001b[0margs\u001b[0m\u001b[0;34m,\u001b[0m \u001b[0;34m**\u001b[0m\u001b[0mkwargs\u001b[0m\u001b[0;34m)\u001b[0m\u001b[0;34m:\u001b[0m\u001b[0;34m\u001b[0m\u001b[0;34m\u001b[0m\u001b[0m\n",
            "\u001b[0;32m/usr/local/lib/python3.10/dist-packages/torch/nn/modules/module.py\u001b[0m in \u001b[0;36m_call_impl\u001b[0;34m(self, *args, **kwargs)\u001b[0m\n\u001b[1;32m   1518\u001b[0m                 \u001b[0;32mor\u001b[0m \u001b[0m_global_backward_pre_hooks\u001b[0m \u001b[0;32mor\u001b[0m \u001b[0m_global_backward_hooks\u001b[0m\u001b[0;34m\u001b[0m\u001b[0;34m\u001b[0m\u001b[0m\n\u001b[1;32m   1519\u001b[0m                 or _global_forward_hooks or _global_forward_pre_hooks):\n\u001b[0;32m-> 1520\u001b[0;31m             \u001b[0;32mreturn\u001b[0m \u001b[0mforward_call\u001b[0m\u001b[0;34m(\u001b[0m\u001b[0;34m*\u001b[0m\u001b[0margs\u001b[0m\u001b[0;34m,\u001b[0m \u001b[0;34m**\u001b[0m\u001b[0mkwargs\u001b[0m\u001b[0;34m)\u001b[0m\u001b[0;34m\u001b[0m\u001b[0;34m\u001b[0m\u001b[0m\n\u001b[0m\u001b[1;32m   1521\u001b[0m \u001b[0;34m\u001b[0m\u001b[0m\n\u001b[1;32m   1522\u001b[0m         \u001b[0;32mtry\u001b[0m\u001b[0;34m:\u001b[0m\u001b[0;34m\u001b[0m\u001b[0;34m\u001b[0m\u001b[0m\n",
            "\u001b[0;32m/usr/local/lib/python3.10/dist-packages/torch/nn/modules/conv.py\u001b[0m in \u001b[0;36mforward\u001b[0;34m(self, input)\u001b[0m\n\u001b[1;32m    458\u001b[0m \u001b[0;34m\u001b[0m\u001b[0m\n\u001b[1;32m    459\u001b[0m     \u001b[0;32mdef\u001b[0m \u001b[0mforward\u001b[0m\u001b[0;34m(\u001b[0m\u001b[0mself\u001b[0m\u001b[0;34m,\u001b[0m \u001b[0minput\u001b[0m\u001b[0;34m:\u001b[0m \u001b[0mTensor\u001b[0m\u001b[0;34m)\u001b[0m \u001b[0;34m->\u001b[0m \u001b[0mTensor\u001b[0m\u001b[0;34m:\u001b[0m\u001b[0;34m\u001b[0m\u001b[0;34m\u001b[0m\u001b[0m\n\u001b[0;32m--> 460\u001b[0;31m         \u001b[0;32mreturn\u001b[0m \u001b[0mself\u001b[0m\u001b[0;34m.\u001b[0m\u001b[0m_conv_forward\u001b[0m\u001b[0;34m(\u001b[0m\u001b[0minput\u001b[0m\u001b[0;34m,\u001b[0m \u001b[0mself\u001b[0m\u001b[0;34m.\u001b[0m\u001b[0mweight\u001b[0m\u001b[0;34m,\u001b[0m \u001b[0mself\u001b[0m\u001b[0;34m.\u001b[0m\u001b[0mbias\u001b[0m\u001b[0;34m)\u001b[0m\u001b[0;34m\u001b[0m\u001b[0;34m\u001b[0m\u001b[0m\n\u001b[0m\u001b[1;32m    461\u001b[0m \u001b[0;34m\u001b[0m\u001b[0m\n\u001b[1;32m    462\u001b[0m \u001b[0;32mclass\u001b[0m \u001b[0mConv3d\u001b[0m\u001b[0;34m(\u001b[0m\u001b[0m_ConvNd\u001b[0m\u001b[0;34m)\u001b[0m\u001b[0;34m:\u001b[0m\u001b[0;34m\u001b[0m\u001b[0;34m\u001b[0m\u001b[0m\n",
            "\u001b[0;32m/usr/local/lib/python3.10/dist-packages/torch/nn/modules/conv.py\u001b[0m in \u001b[0;36m_conv_forward\u001b[0;34m(self, input, weight, bias)\u001b[0m\n\u001b[1;32m    454\u001b[0m                             \u001b[0mweight\u001b[0m\u001b[0;34m,\u001b[0m \u001b[0mbias\u001b[0m\u001b[0;34m,\u001b[0m \u001b[0mself\u001b[0m\u001b[0;34m.\u001b[0m\u001b[0mstride\u001b[0m\u001b[0;34m,\u001b[0m\u001b[0;34m\u001b[0m\u001b[0;34m\u001b[0m\u001b[0m\n\u001b[1;32m    455\u001b[0m                             _pair(0), self.dilation, self.groups)\n\u001b[0;32m--> 456\u001b[0;31m         return F.conv2d(input, weight, bias, self.stride,\n\u001b[0m\u001b[1;32m    457\u001b[0m                         self.padding, self.dilation, self.groups)\n\u001b[1;32m    458\u001b[0m \u001b[0;34m\u001b[0m\u001b[0m\n",
            "\u001b[0;31mRuntimeError\u001b[0m: Input type (torch.FloatTensor) and weight type (torch.cuda.FloatTensor) should be the same or input should be a MKLDNN tensor and weight is a dense tensor"
          ]
        }
      ]
    },
    {
      "cell_type": "code",
      "source": [],
      "metadata": {
        "id": "8xgEpv0pz5kW"
      },
      "execution_count": null,
      "outputs": []
    }
  ]
}